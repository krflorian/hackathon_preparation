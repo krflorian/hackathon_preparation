{
 "cells": [
  {
   "attachments": {},
   "cell_type": "markdown",
   "metadata": {},
   "source": [
    "# Logistics Hackathon Preparation "
   ]
  },
  {
   "attachments": {},
   "cell_type": "markdown",
   "metadata": {},
   "source": [
    "## get started \n",
    "- create venv \n",
    "```shell \n",
    "pip install venv \n",
    "python -m venv .env\n",
    "```\n",
    "\n",
    "- activate venv  \n",
    "\n",
    "powershell: \n",
    "```shell \n",
    ".env/Scripts/Activate.ps1\n",
    "```\n",
    "\n",
    "cmd: \n",
    "```shell \n",
    "env/Scripts/activate.bat\n",
    "```\n",
    "\n",
    "- install requirements \n",
    "```shell \n",
    "pip install -r requirements.txt\n",
    "```"
   ]
  },
  {
   "cell_type": "code",
   "execution_count": 1,
   "metadata": {},
   "outputs": [],
   "source": [
    "import networkx as nx \n",
    "from pydantic import BaseModel\n",
    "import json "
   ]
  },
  {
   "attachments": {},
   "cell_type": "markdown",
   "metadata": {},
   "source": [
    "## 1. load graph from json into networkx graph object \n",
    "- use json module to load graph.json \n",
    "- use networkx `add_edge()` function to create the graph with 'distance' on every edge [documentation](https://networkx.org/documentation/stable/reference/classes/generated/networkx.Graph.add_edge.html) "
   ]
  },
  {
   "cell_type": "code",
   "execution_count": 2,
   "metadata": {},
   "outputs": [],
   "source": [
    "\n",
    "graph = nx.Graph() \n",
    "\n",
    "# load graph \n",
    "\n",
    "\n",
    "# add edges to graph object\n"
   ]
  },
  {
   "attachments": {},
   "cell_type": "markdown",
   "metadata": {},
   "source": [
    "## 2. create function that calculates the profit of a route\n",
    "- 1km costs 1.2€"
   ]
  },
  {
   "cell_type": "code",
   "execution_count": 3,
   "metadata": {},
   "outputs": [],
   "source": [
    "def get_profit(distance:float, revenue:float) -> float: \n",
    "    raise NotImplemented\n"
   ]
  },
  {
   "attachments": {},
   "cell_type": "markdown",
   "metadata": {},
   "source": [
    "## 3. search the shortest path distance between two nodes \n",
    "- use networkx shortest path function [documentation](https://networkx.org/documentation/stable/reference/algorithms/generated/networkx.algorithms.shortest_paths.generic.shortest_path.html#networkx.algorithms.shortest_paths.generic.shortest_path)"
   ]
  },
  {
   "cell_type": "code",
   "execution_count": 4,
   "metadata": {},
   "outputs": [
    {
     "ename": "NotImplementedError",
     "evalue": "",
     "output_type": "error",
     "traceback": [
      "\u001b[1;31m---------------------------------------------------------------------------\u001b[0m",
      "\u001b[1;31mNotImplementedError\u001b[0m                       Traceback (most recent call last)",
      "Cell \u001b[1;32mIn[4], line 7\u001b[0m\n\u001b[0;32m      2\u001b[0m \u001b[39m    \u001b[39m\u001b[39m\"\"\"#TODO\"\"\"\u001b[39;00m\n\u001b[0;32m      3\u001b[0m     \u001b[39mraise\u001b[39;00m \u001b[39mNotImplementedError\u001b[39;00m\n\u001b[1;32m----> 7\u001b[0m get_distance(origin\u001b[39m=\u001b[39;49m\u001b[39m\"\u001b[39;49m\u001b[39mstart\u001b[39;49m\u001b[39m\"\u001b[39;49m, destination\u001b[39m=\u001b[39;49m\u001b[39m\"\u001b[39;49m\u001b[39mend\u001b[39;49m\u001b[39m\"\u001b[39;49m)\n",
      "Cell \u001b[1;32mIn[4], line 3\u001b[0m, in \u001b[0;36mget_distance\u001b[1;34m(origin, destination)\u001b[0m\n\u001b[0;32m      1\u001b[0m \u001b[39mdef\u001b[39;00m \u001b[39mget_distance\u001b[39m(origin: \u001b[39mstr\u001b[39m, destination: \u001b[39mstr\u001b[39m) \u001b[39m-\u001b[39m\u001b[39m>\u001b[39m \u001b[39mfloat\u001b[39m:\n\u001b[0;32m      2\u001b[0m \u001b[39m    \u001b[39m\u001b[39m\"\"\"#TODO\"\"\"\u001b[39;00m\n\u001b[1;32m----> 3\u001b[0m     \u001b[39mraise\u001b[39;00m \u001b[39mNotImplementedError\u001b[39;00m\n",
      "\u001b[1;31mNotImplementedError\u001b[0m: "
     ]
    }
   ],
   "source": [
    "def get_distance(origin: str, destination: str) -> float:\n",
    "    \"\"\"#TODO\"\"\"\n",
    "    raise NotImplementedError\n",
    "\n",
    "\n",
    "\n",
    "get_distance(origin=\"start\", destination=\"end\")"
   ]
  },
  {
   "attachments": {},
   "cell_type": "markdown",
   "metadata": {},
   "source": [
    "## 4. search the shortest path distance between multiple nodes \n",
    "- return node idx and distance for the shortest path \n",
    "- use networkx all shortest paths function [documentation](https://networkx.org/documentation/stable/reference/algorithms/generated/networkx.algorithms.shortest_paths.unweighted.single_source_shortest_path.html#networkx.algorithms.shortest_paths.unweighted.single_source_shortest_path)"
   ]
  },
  {
   "cell_type": "code",
   "execution_count": null,
   "metadata": {},
   "outputs": [],
   "source": [
    "def get_minimum_distance(origin: str, destinations: list[str]) -> tuple[str, float]:\n",
    "    \"\"\"#TODO\"\"\"\n",
    "    raise NotImplemented\n",
    "\n",
    "\n",
    "get_distance(origin=\"end\", destinations=[])"
   ]
  },
  {
   "attachments": {},
   "cell_type": "markdown",
   "metadata": {},
   "source": [
    "## 5. calculate shortest path and return an Route Object"
   ]
  },
  {
   "cell_type": "code",
   "execution_count": null,
   "metadata": {},
   "outputs": [],
   "source": [
    "class Route(BaseModel):\n",
    "    origin: str\n",
    "    destination: str\n",
    "    distance: float \n",
    "    profit: float \n",
    "\n",
    "\n",
    "def get_route_info(origin, destination) -> Route: \n",
    "    \"\"\"#TODO\"\"\"\n",
    "    raise NotImplementedError\n",
    "\n",
    "get_route_info(origin=\"start\", destination=\"destination\")\n"
   ]
  },
  {
   "cell_type": "markdown",
   "metadata": {},
   "source": [
    "## 6. Put everything together in routing.py "
   ]
  },
  {
   "cell_type": "code",
   "execution_count": null,
   "metadata": {},
   "outputs": [],
   "source": [
    "import routing \n",
    "\n",
    "route_info = routing.get_route_info(origin=\"start\", destination=\"destination\")\n",
    "route_info"
   ]
  }
 ],
 "metadata": {
  "kernelspec": {
   "display_name": ".env",
   "language": "python",
   "name": "python3"
  },
  "language_info": {
   "codemirror_mode": {
    "name": "ipython",
    "version": 3
   },
   "file_extension": ".py",
   "mimetype": "text/x-python",
   "name": "python",
   "nbconvert_exporter": "python",
   "pygments_lexer": "ipython3",
   "version": "3.9.13"
  },
  "orig_nbformat": 4,
  "vscode": {
   "interpreter": {
    "hash": "ccf57bdbec187ac31d59342c5c88f925515b61b6909913d3cdcf02394523397e"
   }
  }
 },
 "nbformat": 4,
 "nbformat_minor": 2
}
