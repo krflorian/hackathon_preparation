{
 "cells": [
  {
   "attachments": {},
   "cell_type": "markdown",
   "metadata": {},
   "source": [
    "# Logistics Hackathon Preparation "
   ]
  },
  {
   "attachments": {},
   "cell_type": "markdown",
   "metadata": {},
   "source": [
    "## get started \n",
    "- create venv \n",
    "```shell \n",
    "pip install venv \n",
    "python -m venv .env\n",
    "```\n",
    "\n",
    "- activate venv  \n",
    "\n",
    "powershell: \n",
    "```shell \n",
    ".env/Scripts/Activate.ps1\n",
    "```\n",
    "\n",
    "cmd: \n",
    "```shell \n",
    "env/Scripts/activate.bat\n",
    "```\n",
    "\n",
    "- install requirements \n",
    "```shell \n",
    "pip install -r requirements.txt\n",
    "```"
   ]
  },
  {
   "cell_type": "code",
   "execution_count": 5,
   "metadata": {},
   "outputs": [],
   "source": [
    "import networkx as nx \n",
    "from pydantic import BaseModel\n",
    "import json "
   ]
  },
  {
   "attachments": {},
   "cell_type": "markdown",
   "metadata": {},
   "source": [
    "## 1. load graph from json into networkx graph object \n",
    "- use json module to load graph.json \n",
    "- use networkx `add_edge()` function to create the graph with 'distance' on every edge [documentation](https://networkx.org/documentation/stable/reference/classes/generated/networkx.Graph.add_edge.html) "
   ]
  },
  {
   "cell_type": "code",
   "execution_count": 47,
   "metadata": {},
   "outputs": [
    {
     "data": {
      "text/plain": [
       "AtlasView({'fxuhs': {'distance': 262.18}, 'kmftu': {'distance': 331.32}, 'vghbm': {'distance': 323.22}})"
      ]
     },
     "execution_count": 47,
     "metadata": {},
     "output_type": "execute_result"
    }
   ],
   "source": [
    "\n",
    "graph = nx.Graph() \n",
    "\n",
    "# load graph \n",
    "with open(\"graph.json\", \"r\") as infile: \n",
    "    data = json.load(infile)\n",
    "\n",
    "# add edges to graph object\n",
    "for origin in data: \n",
    "    for destination in data[origin]: \n",
    "        graph.add_edge(origin, destination, distance = data[origin][destination][\"distance\"])\n",
    "\n",
    "for node in graph.nodes: \n",
    "    graph.add_node(node, observed_revenue = [])\n",
    "\n",
    "graph[\"start\"]"
   ]
  },
  {
   "attachments": {},
   "cell_type": "markdown",
   "metadata": {},
   "source": [
    "## 2. create function that calculates the profit of a route\n",
    "- 1km costs 1.2€"
   ]
  },
  {
   "cell_type": "code",
   "execution_count": 7,
   "metadata": {},
   "outputs": [],
   "source": [
    "def get_profit(distance:float, revenue:float) -> float: \n",
    "    return revenue - distance*1.2\n"
   ]
  },
  {
   "attachments": {},
   "cell_type": "markdown",
   "metadata": {},
   "source": [
    "## 3. search the shortest path distance between two nodes \n",
    "- use networkx shortest path length function [documentation](https://networkx.org/documentation/stable/reference/algorithms/generated/networkx.algorithms.shortest_paths.generic.shortest_path_length.html#networkx.algorithms.shortest_paths.generic.shortest_path_length)"
   ]
  },
  {
   "cell_type": "code",
   "execution_count": 13,
   "metadata": {},
   "outputs": [
    {
     "data": {
      "text/plain": [
       "17065.049999999996"
      ]
     },
     "execution_count": 13,
     "metadata": {},
     "output_type": "execute_result"
    }
   ],
   "source": [
    "def get_distance(origin: str, destination: str) -> float:\n",
    "    return nx.shortest_path_length(graph, origin, destination, weight = \"distance\")\n",
    "\n",
    "get_distance(origin=\"start\", destination=\"end\")"
   ]
  },
  {
   "attachments": {},
   "cell_type": "markdown",
   "metadata": {},
   "source": [
    "## 4. search the shortest path distance between multiple nodes \n",
    "- return node idx and distance for the shortest path \n",
    "- use networkx all shortest path lenghts function [documentation](https://networkx.org/documentation/stable/reference/algorithms/generated/networkx.algorithms.shortest_paths.unweighted.single_source_shortest_path_length.html#networkx.algorithms.shortest_paths.unweighted.single_source_shortest_path_length)"
   ]
  },
  {
   "cell_type": "code",
   "execution_count": 25,
   "metadata": {},
   "outputs": [
    {
     "data": {
      "text/plain": [
       "('bcwum', 2638.0600000000004)"
      ]
     },
     "execution_count": 25,
     "metadata": {},
     "output_type": "execute_result"
    }
   ],
   "source": [
    "def get_minimum_distance(origin: str, destinations: list[str]) -> tuple[str, float]:\n",
    "    paths = nx.shortest_path_length(graph, source = origin, weight = \"distance\")\n",
    "    paths = {node:distance for node, distance in paths.items() if node in destinations}\n",
    "    return sorted(paths.items(), key=lambda x: x[0])[0] \n",
    "\n",
    "\n",
    "get_minimum_distance(origin=\"end\", destinations=[\"end\", \"tpnkm\", \"qzelt\", \"bcwum\", \"aeiou\"])"
   ]
  },
  {
   "attachments": {},
   "cell_type": "markdown",
   "metadata": {},
   "source": [
    "## 5. calculate shortest path and return an Route Object\n",
    "- put previous functions together and return Route Object"
   ]
  },
  {
   "cell_type": "code",
   "execution_count": 29,
   "metadata": {},
   "outputs": [
    {
     "data": {
      "text/plain": [
       "Route(origin='start', destination='end', distance=17065.049999999996, profit=9521.940000000006)"
      ]
     },
     "execution_count": 29,
     "metadata": {},
     "output_type": "execute_result"
    }
   ],
   "source": [
    "class Route(BaseModel):\n",
    "    origin: str\n",
    "    destination: str\n",
    "    distance: float \n",
    "    profit: float \n",
    "\n",
    "\n",
    "def get_route_info(origin, destination, revenue) -> Route: \n",
    "    distance = get_distance(origin, destination)\n",
    "    profit = get_profit(distance, revenue)\n",
    "    return  Route(\n",
    "        origin=origin, \n",
    "        destination=destination, \n",
    "        distance=distance, \n",
    "        profit=profit\n",
    "    )\n",
    "\n",
    "get_route_info(origin=\"start\", destination=\"end\", revenue = 30_000)\n"
   ]
  },
  {
   "cell_type": "markdown",
   "metadata": {},
   "source": [
    "## 6. Put everything together in routing.py "
   ]
  },
  {
   "cell_type": "code",
   "execution_count": 32,
   "metadata": {},
   "outputs": [
    {
     "data": {
      "text/plain": [
       "Route(origin='start', destination='end', distance=17065.049999999996, profit=9521.940000000006)"
      ]
     },
     "execution_count": 32,
     "metadata": {},
     "output_type": "execute_result"
    }
   ],
   "source": [
    "import routing \n",
    "\n",
    "route_info = routing.get_route_info(origin=\"start\", destination=\"end\", revenue = 30_000)\n",
    "route_info"
   ]
  },
  {
   "attachments": {},
   "cell_type": "markdown",
   "metadata": {},
   "source": [
    "## optional: search nodes within distance < 1000 "
   ]
  },
  {
   "cell_type": "code",
   "execution_count": 60,
   "metadata": {},
   "outputs": [
    {
     "name": "stdout",
     "output_type": "stream",
     "text": [
      "runtime: 0.13\n"
     ]
    }
   ],
   "source": [
    "import time \n",
    "import random \n",
    "nodes = list(graph.nodes)\n",
    "\n",
    "start = time.time() \n",
    "\n",
    "for _ in range(1000):\n",
    "    \n",
    "    node = random.choice(nodes)\n",
    "    paths = nx.single_source_dijkstra_path_length(graph, source=node, weight=\"distance\", cutoff=1000)\n",
    "\n",
    "    for n, distance in paths.items():\n",
    "        if n != node:\n",
    "            graph.nodes[n][\"observed_revenue\"].append(distance)\n",
    "\n",
    "print(f\"runtime: {time.time()-start:.2f}\")"
   ]
  },
  {
   "cell_type": "code",
   "execution_count": 62,
   "metadata": {},
   "outputs": [
    {
     "data": {
      "text/plain": [
       "[607.77,\n",
       " 854.24,\n",
       " 790.36,\n",
       " 414.16999999999996,\n",
       " 958.27,\n",
       " 598.48,\n",
       " 831.65,\n",
       " 857.79,\n",
       " 422.26,\n",
       " 855.01,\n",
       " 166.92000000000002,\n",
       " 702.8499999999999,\n",
       " 702.8499999999999,\n",
       " 41.53,\n",
       " 351.72,\n",
       " 506.6,\n",
       " 842.43,\n",
       " 738.12,\n",
       " 738.12,\n",
       " 842.6899999999999,\n",
       " 543.78,\n",
       " 414.16999999999996,\n",
       " 891.51,\n",
       " 365.21000000000004,\n",
       " 992.8499999999999]"
      ]
     },
     "execution_count": 62,
     "metadata": {},
     "output_type": "execute_result"
    }
   ],
   "source": [
    "graph.nodes[n][\"observed_revenue\"]"
   ]
  },
  {
   "cell_type": "code",
   "execution_count": 61,
   "metadata": {},
   "outputs": [
    {
     "data": {
      "text/plain": [
       "641.254"
      ]
     },
     "execution_count": 61,
     "metadata": {},
     "output_type": "execute_result"
    }
   ],
   "source": [
    "import numpy as np \n",
    "\n",
    "np.mean(graph.nodes[n][\"observed_revenue\"])"
   ]
  }
 ],
 "metadata": {
  "kernelspec": {
   "display_name": ".env",
   "language": "python",
   "name": "python3"
  },
  "language_info": {
   "codemirror_mode": {
    "name": "ipython",
    "version": 3
   },
   "file_extension": ".py",
   "mimetype": "text/x-python",
   "name": "python",
   "nbconvert_exporter": "python",
   "pygments_lexer": "ipython3",
   "version": "3.9.13"
  },
  "orig_nbformat": 4,
  "vscode": {
   "interpreter": {
    "hash": "ccf57bdbec187ac31d59342c5c88f925515b61b6909913d3cdcf02394523397e"
   }
  }
 },
 "nbformat": 4,
 "nbformat_minor": 2
}
