{
 "cells": [
  {
   "attachments": {},
   "cell_type": "markdown",
   "metadata": {},
   "source": [
    "# Logistics Hackathon Preparation "
   ]
  },
  {
   "attachments": {},
   "cell_type": "markdown",
   "metadata": {},
   "source": [
    "## get started \n",
    "- create venv \n",
    "```shell \n",
    "pip install venv \n",
    "python -m venv .env\n",
    "```\n",
    "\n",
    "- activate venv  \n",
    "\n",
    "powershell: \n",
    "```shell \n",
    ".env/Scripts/Activate.ps1\n",
    "```\n",
    "\n",
    "cmd: \n",
    "```shell \n",
    "env/Scripts/activate.bat\n",
    "```\n",
    "\n",
    "- install requirements \n",
    "```shell \n",
    "pip install -r requirements.txt\n",
    "```"
   ]
  },
  {
   "cell_type": "code",
   "execution_count": 1,
   "metadata": {},
   "outputs": [],
   "source": [
    "import networkx as nx \n",
    "from pydantic import BaseModel\n",
    "import json "
   ]
  },
  {
   "attachments": {},
   "cell_type": "markdown",
   "metadata": {},
   "source": [
    "## 1. load graph from json into networkx graph object \n",
    "- use json module to load graph.json \n",
    "- use networkx `add_edge()` function to create the graph with 'distance' on every edge [documentation](https://networkx.org/documentation/stable/reference/classes/generated/networkx.Graph.add_edge.html) "
   ]
  },
  {
   "cell_type": "code",
   "execution_count": 6,
   "metadata": {},
   "outputs": [
    {
     "data": {
      "text/plain": [
       "AtlasView({'fxuhs': {'distance': 262.18}, 'kmftu': {'distance': 331.32}, 'vghbm': {'distance': 323.22}})"
      ]
     },
     "execution_count": 6,
     "metadata": {},
     "output_type": "execute_result"
    }
   ],
   "source": [
    "\n",
    "graph = nx.Graph() \n",
    "\n",
    "# load graph \n",
    "with open(\"graph.json\", \"r\") as infile: \n",
    "    data = json.load(infile)\n",
    "\n",
    "# add edges to graph object\n",
    "for origin in data: \n",
    "    for destination in data[origin]: \n",
    "        graph.add_edge(origin, destination, distance = data[origin][destination][\"distance\"])\n",
    "\n",
    "graph[\"start\"]"
   ]
  },
  {
   "attachments": {},
   "cell_type": "markdown",
   "metadata": {},
   "source": [
    "## 2. create function that calculates the profit of a route\n",
    "- 1km costs 1.2€"
   ]
  },
  {
   "cell_type": "code",
   "execution_count": 7,
   "metadata": {},
   "outputs": [],
   "source": [
    "def get_profit(distance:float, revenue:float) -> float: \n",
    "    return revenue - distance*1.2\n"
   ]
  },
  {
   "attachments": {},
   "cell_type": "markdown",
   "metadata": {},
   "source": [
    "## 3. search the shortest path distance between two nodes \n",
    "- use networkx shortest path length function [documentation](https://networkx.org/documentation/stable/reference/algorithms/generated/networkx.algorithms.shortest_paths.generic.shortest_path_length.html#networkx.algorithms.shortest_paths.generic.shortest_path_length)"
   ]
  },
  {
   "cell_type": "code",
   "execution_count": 13,
   "metadata": {},
   "outputs": [
    {
     "data": {
      "text/plain": [
       "17065.049999999996"
      ]
     },
     "execution_count": 13,
     "metadata": {},
     "output_type": "execute_result"
    }
   ],
   "source": [
    "def get_distance(origin: str, destination: str) -> float:\n",
    "    return nx.shortest_path_length(graph, origin, destination, weight = \"distance\")\n",
    "\n",
    "get_distance(origin=\"start\", destination=\"end\")"
   ]
  },
  {
   "attachments": {},
   "cell_type": "markdown",
   "metadata": {},
   "source": [
    "## 4. search the shortest path distance between multiple nodes \n",
    "- return node idx and distance for the shortest path \n",
    "- use networkx all shortest path lenghts function [documentation](https://networkx.org/documentation/stable/reference/algorithms/generated/networkx.algorithms.shortest_paths.unweighted.single_source_shortest_path_length.html#networkx.algorithms.shortest_paths.unweighted.single_source_shortest_path_length)"
   ]
  },
  {
   "cell_type": "code",
   "execution_count": 25,
   "metadata": {},
   "outputs": [
    {
     "data": {
      "text/plain": [
       "('bcwum', 2638.0600000000004)"
      ]
     },
     "execution_count": 25,
     "metadata": {},
     "output_type": "execute_result"
    }
   ],
   "source": [
    "def get_minimum_distance(origin: str, destinations: list[str]) -> tuple[str, float]:\n",
    "    paths = nx.shortest_path_length(graph, source = origin, weight = \"distance\")\n",
    "    paths = {node:distance for node, distance in paths.items() if node in destinations}\n",
    "    return sorted(paths.items(), key=lambda x: x[0])[0] \n",
    "\n",
    "\n",
    "get_minimum_distance(origin=\"end\", destinations=[\"end\", \"tpnkm\", \"qzelt\", \"bcwum\", \"aeiou\"])"
   ]
  },
  {
   "attachments": {},
   "cell_type": "markdown",
   "metadata": {},
   "source": [
    "## 5. calculate shortest path and return an Route Object\n",
    "- put previous functions together and return Route Object"
   ]
  },
  {
   "cell_type": "code",
   "execution_count": 29,
   "metadata": {},
   "outputs": [
    {
     "data": {
      "text/plain": [
       "Route(origin='start', destination='end', distance=17065.049999999996, profit=9521.940000000006)"
      ]
     },
     "execution_count": 29,
     "metadata": {},
     "output_type": "execute_result"
    }
   ],
   "source": [
    "class Route(BaseModel):\n",
    "    origin: str\n",
    "    destination: str\n",
    "    distance: float \n",
    "    profit: float \n",
    "\n",
    "\n",
    "def get_route_info(origin, destination, revenue) -> Route: \n",
    "    distance = get_distance(origin, destination)\n",
    "    profit = get_profit(distance, revenue)\n",
    "    return  Route(\n",
    "        origin=origin, \n",
    "        destination=destination, \n",
    "        distance=distance, \n",
    "        profit=profit\n",
    "    )\n",
    "\n",
    "get_route_info(origin=\"start\", destination=\"end\", revenue = 30_000)\n"
   ]
  },
  {
   "cell_type": "markdown",
   "metadata": {},
   "source": [
    "## 6. Put everything together in routing.py "
   ]
  },
  {
   "cell_type": "code",
   "execution_count": 32,
   "metadata": {},
   "outputs": [
    {
     "data": {
      "text/plain": [
       "Route(origin='start', destination='end', distance=17065.049999999996, profit=9521.940000000006)"
      ]
     },
     "execution_count": 32,
     "metadata": {},
     "output_type": "execute_result"
    }
   ],
   "source": [
    "import routing \n",
    "\n",
    "route_info = routing.get_route_info(origin=\"start\", destination=\"end\", revenue = 30_000)\n",
    "route_info"
   ]
  }
 ],
 "metadata": {
  "kernelspec": {
   "display_name": ".env",
   "language": "python",
   "name": "python3"
  },
  "language_info": {
   "codemirror_mode": {
    "name": "ipython",
    "version": 3
   },
   "file_extension": ".py",
   "mimetype": "text/x-python",
   "name": "python",
   "nbconvert_exporter": "python",
   "pygments_lexer": "ipython3",
   "version": "3.9.13"
  },
  "orig_nbformat": 4,
  "vscode": {
   "interpreter": {
    "hash": "ccf57bdbec187ac31d59342c5c88f925515b61b6909913d3cdcf02394523397e"
   }
  }
 },
 "nbformat": 4,
 "nbformat_minor": 2
}
